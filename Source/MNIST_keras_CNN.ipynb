{
  "nbformat": 4,
  "nbformat_minor": 0,
  "metadata": {
    "colab": {
      "name": "MNIST_keras_CNN.ipynb",
      "provenance": [],
      "collapsed_sections": [],
      "include_colab_link": true
    },
    "kernelspec": {
      "name": "python3",
      "display_name": "Python 3"
    },
    "language_info": {
      "name": "python"
    }
  },
  "cells": [
    {
      "cell_type": "markdown",
      "metadata": {
        "id": "view-in-github",
        "colab_type": "text"
      },
      "source": [
        "<a href=\"https://colab.research.google.com/github/MiguelAngelTinocoArroyo/MNIST/blob/main/Source/MNIST_keras_CNN.ipynb\" target=\"_parent\"><img src=\"https://colab.research.google.com/assets/colab-badge.svg\" alt=\"Open In Colab\"/></a>"
      ]
    },
    {
      "cell_type": "code",
      "source": [
        "import numpy as np\n",
        "import matplotlib.pyplot as plt\n",
        "from random import sample\n",
        "\n",
        "# Librería del dataset\n",
        "from sklearn import datasets\n",
        "from sklearn.metrics import accuracy_score\n",
        "from sklearn.model_selection import train_test_split\n",
        "\n",
        "# Librería\n",
        "import keras \n",
        "import tensorflow_datasets as tfd\n",
        "from tensorflow.python.keras.models import Sequential\n",
        "from tensorflow.python.keras.layers import Reshape, MaxPooling2D\n",
        "from tensorflow.python.keras.layers import Conv2D, Dense, Flatten, Dropout"
      ],
      "metadata": {
        "id": "N_vgEIxkgWkz"
      },
      "execution_count": null,
      "outputs": []
    },
    {
      "cell_type": "code",
      "source": [
        "! pip install keras-rectified-adam"
      ],
      "metadata": {
        "colab": {
          "base_uri": "https://localhost:8080/"
        },
        "id": "BLW0K-2qlWb6",
        "outputId": "2fcae2e7-76b8-43ef-b3ef-812956a33ca9"
      },
      "execution_count": null,
      "outputs": [
        {
          "output_type": "stream",
          "name": "stdout",
          "text": [
            "Looking in indexes: https://pypi.org/simple, https://us-python.pkg.dev/colab-wheels/public/simple/\n",
            "Collecting keras-rectified-adam\n",
            "  Downloading keras-rectified-adam-0.20.0.tar.gz (7.0 kB)\n",
            "Requirement already satisfied: numpy in /usr/local/lib/python3.7/dist-packages (from keras-rectified-adam) (1.21.6)\n",
            "Requirement already satisfied: Keras in /usr/local/lib/python3.7/dist-packages (from keras-rectified-adam) (2.8.0)\n",
            "Building wheels for collected packages: keras-rectified-adam\n",
            "  Building wheel for keras-rectified-adam (setup.py) ... \u001b[?25l\u001b[?25hdone\n",
            "  Created wheel for keras-rectified-adam: filename=keras_rectified_adam-0.20.0-py3-none-any.whl size=8270 sha256=17df6ee7e13b7cd79f7fcb8a5089f72cdc6a8e03c7184ffd67f370f160fc47d3\n",
            "  Stored in directory: /root/.cache/pip/wheels/5d/1f/40/3fe78c6f4dd6f0522c558077283361e7d50fd7720d2f8fcd7e\n",
            "Successfully built keras-rectified-adam\n",
            "Installing collected packages: keras-rectified-adam\n",
            "Successfully installed keras-rectified-adam-0.20.0\n"
          ]
        }
      ]
    },
    {
      "cell_type": "code",
      "source": [
        "from tensorflow.keras.optimizers import Adam"
      ],
      "metadata": {
        "id": "yi5sgs1q1iye"
      },
      "execution_count": null,
      "outputs": []
    },
    {
      "cell_type": "code",
      "source": [
        "# Cargamos la data\n",
        "digits = datasets.load_digits()"
      ],
      "metadata": {
        "id": "WaXyfOt0NQhI"
      },
      "execution_count": null,
      "outputs": []
    },
    {
      "cell_type": "code",
      "source": [
        "dir(digits)"
      ],
      "metadata": {
        "colab": {
          "base_uri": "https://localhost:8080/"
        },
        "id": "DnmwuJEZO4NB",
        "outputId": "f1f8ebd1-3714-4048-c312-59c6d7d69423"
      },
      "execution_count": null,
      "outputs": [
        {
          "output_type": "execute_result",
          "data": {
            "text/plain": [
              "['DESCR', 'data', 'feature_names', 'frame', 'images', 'target', 'target_names']"
            ]
          },
          "metadata": {},
          "execution_count": 5
        }
      ]
    },
    {
      "cell_type": "code",
      "source": [
        "# Mostrar todo el conjunto de Dataset del 0 al 9\n",
        "\n",
        "_, axes = plt.subplots(nrows=1, ncols=10, figsize=(20, 3))\n",
        "for ax, image, label in zip(axes, digits.images, digits.target):\n",
        "    ax.set_axis_off()\n",
        "    ax.imshow(image, cmap=plt.cm.gray_r, interpolation=\"nearest\")\n",
        "    ax.set_title(\"Training: %i\" % label)"
      ],
      "metadata": {
        "colab": {
          "base_uri": "https://localhost:8080/",
          "height": 140
        },
        "id": "Uwv2K2RNOI8o",
        "outputId": "76679e6b-fcc5-4ac3-eee1-dba952123644"
      },
      "execution_count": null,
      "outputs": [
        {
          "output_type": "display_data",
          "data": {
            "text/plain": [
              "<Figure size 1440x216 with 10 Axes>"
            ],
            "image/png": "[encoded data removed]"
          },
          "metadata": {
            "needs_background": "light"
          }
        }
      ]
    },
    {
      "cell_type": "code",
      "source": [
        "# guardamos los datos matriciales \n",
        "dataMnist = digits.data"
      ],
      "metadata": {
        "id": "Y0FbAviSwkG2"
      },
      "execution_count": null,
      "outputs": []
    },
    {
      "cell_type": "code",
      "source": [
        "# Veamos la dimensión de nuestro dataset\n",
        "dataMnist.shape"
      ],
      "metadata": {
        "colab": {
          "base_uri": "https://localhost:8080/"
        },
        "id": "fYSu4mRpxFp2",
        "outputId": "579998ea-f837-4276-f45c-284ae40db63c"
      },
      "execution_count": null,
      "outputs": [
        {
          "output_type": "execute_result",
          "data": {
            "text/plain": [
              "(1797, 64)"
            ]
          },
          "metadata": {},
          "execution_count": 8
        }
      ]
    },
    {
      "cell_type": "code",
      "source": [
        "# Separación en entrenamiento y test=30%\n",
        "X_train, X_test, y_train, y_test =  train_test_split(\n",
        "    dataMnist, digits.target, test_size=0.3)\n",
        "\n",
        "# Dimensión de train y test\n",
        "print('train X :', X_train.shape, ', train y :', y_train.shape)\n",
        "print('test  X :', X_test.shape, ', test  y :', y_test.shape)"
      ],
      "metadata": {
        "colab": {
          "base_uri": "https://localhost:8080/"
        },
        "id": "OJkozdWh-so9",
        "outputId": "ef5b26e8-af1c-44df-d7cc-52a80950b832"
      },
      "execution_count": null,
      "outputs": [
        {
          "output_type": "stream",
          "name": "stdout",
          "text": [
            "train X : (1257, 64) , train y : (1257,)\n",
            "test  X : (540, 64) , test  y : (540,)\n"
          ]
        }
      ]
    },
    {
      "cell_type": "code",
      "source": [
        "# reshape\n",
        "img_rows, img_cols = 8, 8\n",
        "\n",
        "input_shape = (img_rows, img_cols, 1)\n",
        "input_shape\n",
        "\n",
        "X_train = X_train.reshape(X_train.shape[0], img_rows, img_cols, 1)\n",
        "X_test = X_test.reshape(X_test.shape[0], img_rows, img_cols, 1)"
      ],
      "metadata": {
        "id": "Mze88v7ox3Fj"
      },
      "execution_count": null,
      "outputs": []
    },
    {
      "cell_type": "code",
      "source": [
        "# Normalizamos los datos para evitar problemas de inestabilidad numérica\n",
        "# Aseguramos que los datos estén bien representados con floats de 32-bits\n",
        "# los pixeles tiene valores de 0 a 255, pero para normalizar deben estar\n",
        "# entre 0 a 1 \n",
        "X_train = X_train.astype('float32')/255.0 # 255 es el máx valor de pixeles\n",
        "X_test  = X_test.astype('float32')/255.0  # de color"
      ],
      "metadata": {
        "id": "fKtlwGz1nfgt"
      },
      "execution_count": null,
      "outputs": []
    },
    {
      "cell_type": "code",
      "source": [
        "# Convertir las etiquetas en vectores one-hot encoded\n",
        "from sklearn.preprocessing import LabelBinarizer\n",
        "\n",
        "label_binarizer = LabelBinarizer()\n",
        "y_train = label_binarizer.fit_transform(y_train)\n",
        "y_test  = label_binarizer.fit_transform(y_test)"
      ],
      "metadata": {
        "id": "3o6Z4CGXnsHH"
      },
      "execution_count": null,
      "outputs": []
    },
    {
      "cell_type": "code",
      "source": [
        "#atch_size = 256\n",
        "num_classes = 10\n",
        "#epochs = 50\n",
        "\n",
        "input_shape = input_shape\n",
        "\n",
        "modelo_cnn = Sequential()\n",
        "# conv2D convierte a un vector toda la información de los pixeles\n",
        "# flatten sirve para conectar una capa de convolución bidimensional a una \n",
        "# capa densa unimensional \n",
        "# MaxPooling2D aplicar poling\n",
        "# 32 filtros, kernel 3*3\n",
        "\n",
        "modelo_cnn.add(Conv2D(32, kernel_size=(3, 3),\n",
        "                 activation='relu',\n",
        "                 input_shape=input_shape))\n",
        "# De una capa 2*2 tomará el valor del pixel máximo poling\n",
        "modelo_cnn.add(MaxPooling2D(pool_size=(2, 2)))\n",
        "modelo_cnn.add(Dropout(0.25))\n",
        "modelo_cnn.add(Flatten())\n",
        "modelo_cnn.add(Dense(256, activation='relu'))\n",
        "modelo_cnn.add(Dropout(0.5))\n",
        "modelo_cnn.add(Dense(num_classes, activation='softmax'))\n",
        "modelo_cnn.summary()"
      ],
      "metadata": {
        "id": "xSW77pVwpN0r",
        "colab": {
          "base_uri": "https://localhost:8080/"
        },
        "outputId": "146c9e49-25fb-4326-efb9-d8497a8c6972"
      },
      "execution_count": null,
      "outputs": [
        {
          "output_type": "stream",
          "name": "stdout",
          "text": [
            "Model: \"sequential\"\n",
            "_________________________________________________________________\n",
            "Layer (type)                 Output Shape              Param #   \n",
            "=================================================================\n",
            "conv2d (Conv2D)              (None, 6, 6, 32)          320       \n",
            "_________________________________________________________________\n",
            "max_pooling2d (MaxPooling2D) (None, 3, 3, 32)          0         \n",
            "_________________________________________________________________\n",
            "dropout (Dropout)            (None, 3, 3, 32)          0         \n",
            "_________________________________________________________________\n",
            "flatten (Flatten)            (None, 288)               0         \n",
            "_________________________________________________________________\n",
            "dense (Dense)                (None, 256)               73984     \n",
            "_________________________________________________________________\n",
            "dropout_1 (Dropout)          (None, 256)               0         \n",
            "_________________________________________________________________\n",
            "dense_1 (Dense)              (None, 10)                2570      \n",
            "=================================================================\n",
            "Total params: 76,874\n",
            "Trainable params: 76,874\n",
            "Non-trainable params: 0\n",
            "_________________________________________________________________\n"
          ]
        }
      ]
    },
    {
      "cell_type": "code",
      "source": [
        "# Usamos Adam como optimizador \n",
        "print('Entrenando red...')\n",
        "adam = Adam()\n",
        "modelo_cnn.compile(loss ='categorical_crossentropy', \n",
        "              optimizer = 'adam', metrics=['accuracy'])"
      ],
      "metadata": {
        "colab": {
          "base_uri": "https://localhost:8080/"
        },
        "id": "xhFrMtWrpnzK",
        "outputId": "b8bfda30-2943-4d5f-e1de-cc86e9b2a793"
      },
      "execution_count": null,
      "outputs": [
        {
          "output_type": "stream",
          "name": "stdout",
          "text": [
            "Entrenando red...\n"
          ]
        }
      ]
    },
    {
      "cell_type": "code",
      "source": [
        "print('train X :', X_train.shape, ', train y :', y_train.shape)\n",
        "print('test  X :', X_test.shape, ', test  y :', y_test.shape)"
      ],
      "metadata": {
        "colab": {
          "base_uri": "https://localhost:8080/"
        },
        "id": "WpbDcis6WOVk",
        "outputId": "53a86ffb-55c2-41b5-c084-135bdbf5d293"
      },
      "execution_count": null,
      "outputs": [
        {
          "output_type": "stream",
          "name": "stdout",
          "text": [
            "train X : (1257, 8, 8, 1) , train y : (1257, 10)\n",
            "test  X : (540, 8, 8, 1) , test  y : (540, 10)\n"
          ]
        }
      ]
    },
    {
      "cell_type": "code",
      "source": [
        "prede_test = modelo_cnn.fit(X_train, y_train,validation_data=(X_test, y_test),\n",
        "              epochs = 130, batch_size= 100)"
      ],
      "metadata": {
        "colab": {
          "base_uri": "https://localhost:8080/"
        },
        "id": "XTxt8_KdpNlr",
        "outputId": "4eec40bd-5636-4006-b876-3ed644cc78eb"
      },
      "execution_count": null,
      "outputs": [
        {
          "output_type": "stream",
          "name": "stdout",
          "text": [
            "Epoch 1/130\n",
            "13/13 [==============================] - 1s 24ms/step - loss: 2.2963 - accuracy: 0.1782 - val_loss: 2.2854 - val_accuracy: 0.2741\n",
            "Epoch 2/130\n",
            "13/13 [==============================] - 0s 15ms/step - loss: 2.2763 - accuracy: 0.2697 - val_loss: 2.2576 - val_accuracy: 0.4500\n",
            "Epoch 3/130\n",
            "13/13 [==============================] - 0s 14ms/step - loss: 2.2441 - accuracy: 0.3842 - val_loss: 2.2130 - val_accuracy: 0.5870\n",
            "Epoch 4/130\n",
            "13/13 [==============================] - 0s 10ms/step - loss: 2.1891 - accuracy: 0.4654 - val_loss: 2.1419 - val_accuracy: 0.7963\n",
            "Epoch 5/130\n",
            "13/13 [==============================] - 0s 10ms/step - loss: 2.1114 - accuracy: 0.5903 - val_loss: 2.0367 - val_accuracy: 0.8000\n",
            "Epoch 6/130\n",
            "13/13 [==============================] - 0s 10ms/step - loss: 1.9921 - accuracy: 0.6476 - val_loss: 1.8897 - val_accuracy: 0.8278\n",
            "Epoch 7/130\n",
            "13/13 [==============================] - 0s 9ms/step - loss: 1.8548 - accuracy: 0.6523 - val_loss: 1.7062 - val_accuracy: 0.8333\n",
            "Epoch 8/130\n",
            "13/13 [==============================] - 0s 10ms/step - loss: 1.6653 - accuracy: 0.7001 - val_loss: 1.4992 - val_accuracy: 0.8667\n",
            "Epoch 9/130\n",
            "13/13 [==============================] - 0s 10ms/step - loss: 1.4861 - accuracy: 0.7216 - val_loss: 1.2840 - val_accuracy: 0.8352\n",
            "Epoch 10/130\n",
            "13/13 [==============================] - 0s 9ms/step - loss: 1.3032 - accuracy: 0.7327 - val_loss: 1.0897 - val_accuracy: 0.8704\n",
            "Epoch 11/130\n",
            "13/13 [==============================] - 0s 9ms/step - loss: 1.1066 - accuracy: 0.7629 - val_loss: 0.9309 - val_accuracy: 0.8759\n",
            "Epoch 12/130\n",
            "13/13 [==============================] - 0s 10ms/step - loss: 1.0094 - accuracy: 0.7653 - val_loss: 0.7983 - val_accuracy: 0.8759\n",
            "Epoch 13/130\n",
            "13/13 [==============================] - 0s 10ms/step - loss: 0.8990 - accuracy: 0.7828 - val_loss: 0.7026 - val_accuracy: 0.8889\n",
            "Epoch 14/130\n",
            "13/13 [==============================] - 0s 9ms/step - loss: 0.7978 - accuracy: 0.8099 - val_loss: 0.6204 - val_accuracy: 0.8870\n",
            "Epoch 15/130\n",
            "13/13 [==============================] - 0s 9ms/step - loss: 0.7403 - accuracy: 0.8115 - val_loss: 0.5678 - val_accuracy: 0.8944\n",
            "Epoch 16/130\n",
            "13/13 [==============================] - 0s 15ms/step - loss: 0.7042 - accuracy: 0.8162 - val_loss: 0.5179 - val_accuracy: 0.8907\n",
            "Epoch 17/130\n",
            "13/13 [==============================] - 0s 14ms/step - loss: 0.6621 - accuracy: 0.8298 - val_loss: 0.4769 - val_accuracy: 0.9093\n",
            "Epoch 18/130\n",
            "13/13 [==============================] - 0s 12ms/step - loss: 0.5949 - accuracy: 0.8417 - val_loss: 0.4440 - val_accuracy: 0.9074\n",
            "Epoch 19/130\n",
            "13/13 [==============================] - 0s 14ms/step - loss: 0.5603 - accuracy: 0.8481 - val_loss: 0.4088 - val_accuracy: 0.9093\n",
            "Epoch 20/130\n",
            "13/13 [==============================] - 0s 17ms/step - loss: 0.5453 - accuracy: 0.8488 - val_loss: 0.3840 - val_accuracy: 0.9148\n",
            "Epoch 21/130\n",
            "13/13 [==============================] - 0s 13ms/step - loss: 0.5216 - accuracy: 0.8671 - val_loss: 0.3668 - val_accuracy: 0.9204\n",
            "Epoch 22/130\n",
            "13/13 [==============================] - 0s 20ms/step - loss: 0.4980 - accuracy: 0.8735 - val_loss: 0.3473 - val_accuracy: 0.9185\n",
            "Epoch 23/130\n",
            "13/13 [==============================] - 0s 15ms/step - loss: 0.4948 - accuracy: 0.8640 - val_loss: 0.3323 - val_accuracy: 0.9259\n",
            "Epoch 24/130\n",
            "13/13 [==============================] - 0s 16ms/step - loss: 0.4616 - accuracy: 0.8663 - val_loss: 0.3157 - val_accuracy: 0.9278\n",
            "Epoch 25/130\n",
            "13/13 [==============================] - 0s 13ms/step - loss: 0.4582 - accuracy: 0.8687 - val_loss: 0.3045 - val_accuracy: 0.9315\n",
            "Epoch 26/130\n",
            "13/13 [==============================] - 0s 14ms/step - loss: 0.4425 - accuracy: 0.8743 - val_loss: 0.2860 - val_accuracy: 0.9352\n",
            "Epoch 27/130\n",
            "13/13 [==============================] - 0s 17ms/step - loss: 0.4175 - accuracy: 0.8862 - val_loss: 0.2762 - val_accuracy: 0.9389\n",
            "Epoch 28/130\n",
            "13/13 [==============================] - 0s 12ms/step - loss: 0.4013 - accuracy: 0.8910 - val_loss: 0.2641 - val_accuracy: 0.9407\n",
            "Epoch 29/130\n",
            "13/13 [==============================] - 0s 15ms/step - loss: 0.3706 - accuracy: 0.9053 - val_loss: 0.2520 - val_accuracy: 0.9389\n",
            "Epoch 30/130\n",
            "13/13 [==============================] - 0s 19ms/step - loss: 0.3978 - accuracy: 0.8767 - val_loss: 0.2393 - val_accuracy: 0.9407\n",
            "Epoch 31/130\n",
            "13/13 [==============================] - 0s 17ms/step - loss: 0.3662 - accuracy: 0.9053 - val_loss: 0.2317 - val_accuracy: 0.9444\n",
            "Epoch 32/130\n",
            "13/13 [==============================] - 0s 18ms/step - loss: 0.3702 - accuracy: 0.8998 - val_loss: 0.2256 - val_accuracy: 0.9500\n",
            "Epoch 33/130\n",
            "13/13 [==============================] - 0s 13ms/step - loss: 0.3422 - accuracy: 0.8982 - val_loss: 0.2163 - val_accuracy: 0.9500\n",
            "Epoch 34/130\n",
            "13/13 [==============================] - 0s 15ms/step - loss: 0.3335 - accuracy: 0.9093 - val_loss: 0.2071 - val_accuracy: 0.9500\n",
            "Epoch 35/130\n",
            "13/13 [==============================] - 0s 15ms/step - loss: 0.3318 - accuracy: 0.9037 - val_loss: 0.1989 - val_accuracy: 0.9556\n",
            "Epoch 36/130\n",
            "13/13 [==============================] - 0s 14ms/step - loss: 0.3221 - accuracy: 0.9109 - val_loss: 0.1930 - val_accuracy: 0.9556\n",
            "Epoch 37/130\n",
            "13/13 [==============================] - 0s 16ms/step - loss: 0.3147 - accuracy: 0.9117 - val_loss: 0.1903 - val_accuracy: 0.9519\n",
            "Epoch 38/130\n",
            "13/13 [==============================] - 0s 22ms/step - loss: 0.3039 - accuracy: 0.9101 - val_loss: 0.1835 - val_accuracy: 0.9519\n",
            "Epoch 39/130\n",
            "13/13 [==============================] - 0s 22ms/step - loss: 0.3052 - accuracy: 0.9157 - val_loss: 0.1767 - val_accuracy: 0.9574\n",
            "Epoch 40/130\n",
            "13/13 [==============================] - 0s 22ms/step - loss: 0.2951 - accuracy: 0.9133 - val_loss: 0.1708 - val_accuracy: 0.9574\n",
            "Epoch 41/130\n",
            "13/13 [==============================] - 0s 17ms/step - loss: 0.2979 - accuracy: 0.9196 - val_loss: 0.1672 - val_accuracy: 0.9556\n",
            "Epoch 42/130\n",
            "13/13 [==============================] - 0s 13ms/step - loss: 0.2657 - accuracy: 0.9316 - val_loss: 0.1602 - val_accuracy: 0.9593\n",
            "Epoch 43/130\n",
            "13/13 [==============================] - 0s 17ms/step - loss: 0.2710 - accuracy: 0.9260 - val_loss: 0.1551 - val_accuracy: 0.9611\n",
            "Epoch 44/130\n",
            "13/13 [==============================] - 0s 15ms/step - loss: 0.2514 - accuracy: 0.9332 - val_loss: 0.1501 - val_accuracy: 0.9611\n",
            "Epoch 45/130\n",
            "13/13 [==============================] - 0s 24ms/step - loss: 0.2649 - accuracy: 0.9228 - val_loss: 0.1471 - val_accuracy: 0.9630\n",
            "Epoch 46/130\n",
            "13/13 [==============================] - 0s 18ms/step - loss: 0.2589 - accuracy: 0.9204 - val_loss: 0.1442 - val_accuracy: 0.9667\n",
            "Epoch 47/130\n",
            "13/13 [==============================] - 0s 17ms/step - loss: 0.2587 - accuracy: 0.9292 - val_loss: 0.1394 - val_accuracy: 0.9685\n",
            "Epoch 48/130\n",
            "13/13 [==============================] - 0s 18ms/step - loss: 0.2550 - accuracy: 0.9300 - val_loss: 0.1374 - val_accuracy: 0.9685\n",
            "Epoch 49/130\n",
            "13/13 [==============================] - 0s 14ms/step - loss: 0.2268 - accuracy: 0.9379 - val_loss: 0.1305 - val_accuracy: 0.9741\n",
            "Epoch 50/130\n",
            "13/13 [==============================] - 0s 14ms/step - loss: 0.2220 - accuracy: 0.9411 - val_loss: 0.1305 - val_accuracy: 0.9685\n",
            "Epoch 51/130\n",
            "13/13 [==============================] - 0s 18ms/step - loss: 0.2308 - accuracy: 0.9348 - val_loss: 0.1281 - val_accuracy: 0.9630\n",
            "Epoch 52/130\n",
            "13/13 [==============================] - 0s 14ms/step - loss: 0.2240 - accuracy: 0.9364 - val_loss: 0.1210 - val_accuracy: 0.9685\n",
            "Epoch 53/130\n",
            "13/13 [==============================] - 0s 16ms/step - loss: 0.2269 - accuracy: 0.9332 - val_loss: 0.1173 - val_accuracy: 0.9796\n",
            "Epoch 54/130\n",
            "13/13 [==============================] - 0s 15ms/step - loss: 0.2156 - accuracy: 0.9379 - val_loss: 0.1146 - val_accuracy: 0.9741\n",
            "Epoch 55/130\n",
            "13/13 [==============================] - 0s 19ms/step - loss: 0.2111 - accuracy: 0.9403 - val_loss: 0.1124 - val_accuracy: 0.9722\n",
            "Epoch 56/130\n",
            "13/13 [==============================] - 0s 21ms/step - loss: 0.2115 - accuracy: 0.9324 - val_loss: 0.1093 - val_accuracy: 0.9796\n",
            "Epoch 57/130\n",
            "13/13 [==============================] - 0s 15ms/step - loss: 0.1996 - accuracy: 0.9443 - val_loss: 0.1095 - val_accuracy: 0.9685\n",
            "Epoch 58/130\n",
            "13/13 [==============================] - 0s 16ms/step - loss: 0.1977 - accuracy: 0.9395 - val_loss: 0.1045 - val_accuracy: 0.9796\n",
            "Epoch 59/130\n",
            "13/13 [==============================] - 0s 18ms/step - loss: 0.2078 - accuracy: 0.9419 - val_loss: 0.1037 - val_accuracy: 0.9759\n",
            "Epoch 60/130\n",
            "13/13 [==============================] - 0s 15ms/step - loss: 0.1975 - accuracy: 0.9395 - val_loss: 0.1030 - val_accuracy: 0.9815\n",
            "Epoch 61/130\n",
            "13/13 [==============================] - 0s 17ms/step - loss: 0.1840 - accuracy: 0.9523 - val_loss: 0.1008 - val_accuracy: 0.9833\n",
            "Epoch 62/130\n",
            "13/13 [==============================] - 0s 15ms/step - loss: 0.1976 - accuracy: 0.9483 - val_loss: 0.0979 - val_accuracy: 0.9815\n",
            "Epoch 63/130\n",
            "13/13 [==============================] - 0s 15ms/step - loss: 0.1844 - accuracy: 0.9467 - val_loss: 0.0972 - val_accuracy: 0.9796\n",
            "Epoch 64/130\n",
            "13/13 [==============================] - 0s 16ms/step - loss: 0.1710 - accuracy: 0.9531 - val_loss: 0.0930 - val_accuracy: 0.9870\n",
            "Epoch 65/130\n",
            "13/13 [==============================] - 0s 14ms/step - loss: 0.1771 - accuracy: 0.9515 - val_loss: 0.0914 - val_accuracy: 0.9852\n",
            "Epoch 66/130\n",
            "13/13 [==============================] - 0s 14ms/step - loss: 0.1815 - accuracy: 0.9419 - val_loss: 0.0912 - val_accuracy: 0.9870\n",
            "Epoch 67/130\n",
            "13/13 [==============================] - 0s 16ms/step - loss: 0.1643 - accuracy: 0.9523 - val_loss: 0.0877 - val_accuracy: 0.9889\n",
            "Epoch 68/130\n",
            "13/13 [==============================] - 0s 14ms/step - loss: 0.1675 - accuracy: 0.9499 - val_loss: 0.0845 - val_accuracy: 0.9889\n",
            "Epoch 69/130\n",
            "13/13 [==============================] - 0s 15ms/step - loss: 0.1620 - accuracy: 0.9554 - val_loss: 0.0829 - val_accuracy: 0.9889\n",
            "Epoch 70/130\n",
            "13/13 [==============================] - 0s 18ms/step - loss: 0.1555 - accuracy: 0.9586 - val_loss: 0.0807 - val_accuracy: 0.9870\n",
            "Epoch 71/130\n",
            "13/13 [==============================] - 0s 18ms/step - loss: 0.1630 - accuracy: 0.9531 - val_loss: 0.0809 - val_accuracy: 0.9870\n",
            "Epoch 72/130\n",
            "13/13 [==============================] - 0s 15ms/step - loss: 0.1672 - accuracy: 0.9483 - val_loss: 0.0785 - val_accuracy: 0.9889\n",
            "Epoch 73/130\n",
            "13/13 [==============================] - 0s 16ms/step - loss: 0.1603 - accuracy: 0.9539 - val_loss: 0.0776 - val_accuracy: 0.9889\n",
            "Epoch 74/130\n",
            "13/13 [==============================] - 0s 18ms/step - loss: 0.1507 - accuracy: 0.9554 - val_loss: 0.0755 - val_accuracy: 0.9889\n",
            "Epoch 75/130\n",
            "13/13 [==============================] - 0s 14ms/step - loss: 0.1475 - accuracy: 0.9586 - val_loss: 0.0736 - val_accuracy: 0.9889\n",
            "Epoch 76/130\n",
            "13/13 [==============================] - 0s 15ms/step - loss: 0.1516 - accuracy: 0.9594 - val_loss: 0.0740 - val_accuracy: 0.9852\n",
            "Epoch 77/130\n",
            "13/13 [==============================] - 0s 19ms/step - loss: 0.1522 - accuracy: 0.9531 - val_loss: 0.0715 - val_accuracy: 0.9889\n",
            "Epoch 78/130\n",
            "13/13 [==============================] - 0s 15ms/step - loss: 0.1441 - accuracy: 0.9610 - val_loss: 0.0695 - val_accuracy: 0.9889\n",
            "Epoch 79/130\n",
            "13/13 [==============================] - 0s 22ms/step - loss: 0.1352 - accuracy: 0.9570 - val_loss: 0.0681 - val_accuracy: 0.9907\n",
            "Epoch 80/130\n",
            "13/13 [==============================] - 0s 25ms/step - loss: 0.1309 - accuracy: 0.9666 - val_loss: 0.0652 - val_accuracy: 0.9907\n",
            "Epoch 81/130\n",
            "13/13 [==============================] - 0s 16ms/step - loss: 0.1397 - accuracy: 0.9602 - val_loss: 0.0654 - val_accuracy: 0.9889\n",
            "Epoch 82/130\n",
            "13/13 [==============================] - 0s 17ms/step - loss: 0.1124 - accuracy: 0.9722 - val_loss: 0.0637 - val_accuracy: 0.9907\n",
            "Epoch 83/130\n",
            "13/13 [==============================] - 0s 20ms/step - loss: 0.1275 - accuracy: 0.9618 - val_loss: 0.0626 - val_accuracy: 0.9907\n",
            "Epoch 84/130\n",
            "13/13 [==============================] - 0s 20ms/step - loss: 0.1252 - accuracy: 0.9698 - val_loss: 0.0605 - val_accuracy: 0.9907\n",
            "Epoch 85/130\n",
            "13/13 [==============================] - 0s 16ms/step - loss: 0.1468 - accuracy: 0.9562 - val_loss: 0.0611 - val_accuracy: 0.9889\n",
            "Epoch 86/130\n",
            "13/13 [==============================] - 0s 24ms/step - loss: 0.1280 - accuracy: 0.9642 - val_loss: 0.0610 - val_accuracy: 0.9889\n",
            "Epoch 87/130\n",
            "13/13 [==============================] - 0s 15ms/step - loss: 0.1255 - accuracy: 0.9690 - val_loss: 0.0607 - val_accuracy: 0.9907\n",
            "Epoch 88/130\n",
            "13/13 [==============================] - 0s 15ms/step - loss: 0.1305 - accuracy: 0.9634 - val_loss: 0.0623 - val_accuracy: 0.9852\n",
            "Epoch 89/130\n",
            "13/13 [==============================] - 0s 19ms/step - loss: 0.1300 - accuracy: 0.9626 - val_loss: 0.0587 - val_accuracy: 0.9907\n",
            "Epoch 90/130\n",
            "13/13 [==============================] - 0s 14ms/step - loss: 0.1209 - accuracy: 0.9650 - val_loss: 0.0565 - val_accuracy: 0.9889\n",
            "Epoch 91/130\n",
            "13/13 [==============================] - 0s 19ms/step - loss: 0.1137 - accuracy: 0.9682 - val_loss: 0.0555 - val_accuracy: 0.9907\n",
            "Epoch 92/130\n",
            "13/13 [==============================] - 0s 21ms/step - loss: 0.1132 - accuracy: 0.9658 - val_loss: 0.0552 - val_accuracy: 0.9889\n",
            "Epoch 93/130\n",
            "13/13 [==============================] - 0s 15ms/step - loss: 0.1368 - accuracy: 0.9594 - val_loss: 0.0535 - val_accuracy: 0.9907\n",
            "Epoch 94/130\n",
            "13/13 [==============================] - 0s 17ms/step - loss: 0.1204 - accuracy: 0.9626 - val_loss: 0.0559 - val_accuracy: 0.9889\n",
            "Epoch 95/130\n",
            "13/13 [==============================] - 0s 17ms/step - loss: 0.1023 - accuracy: 0.9722 - val_loss: 0.0535 - val_accuracy: 0.9907\n",
            "Epoch 96/130\n",
            "13/13 [==============================] - 0s 15ms/step - loss: 0.1129 - accuracy: 0.9682 - val_loss: 0.0521 - val_accuracy: 0.9907\n",
            "Epoch 97/130\n",
            "13/13 [==============================] - 0s 24ms/step - loss: 0.1195 - accuracy: 0.9658 - val_loss: 0.0504 - val_accuracy: 0.9907\n",
            "Epoch 98/130\n",
            "13/13 [==============================] - 0s 17ms/step - loss: 0.0981 - accuracy: 0.9737 - val_loss: 0.0519 - val_accuracy: 0.9889\n",
            "Epoch 99/130\n",
            "13/13 [==============================] - 0s 20ms/step - loss: 0.0996 - accuracy: 0.9714 - val_loss: 0.0485 - val_accuracy: 0.9907\n",
            "Epoch 100/130\n",
            "13/13 [==============================] - 0s 16ms/step - loss: 0.1121 - accuracy: 0.9737 - val_loss: 0.0508 - val_accuracy: 0.9907\n",
            "Epoch 101/130\n",
            "13/13 [==============================] - 0s 19ms/step - loss: 0.1041 - accuracy: 0.9714 - val_loss: 0.0503 - val_accuracy: 0.9907\n",
            "Epoch 102/130\n",
            "13/13 [==============================] - 0s 24ms/step - loss: 0.0947 - accuracy: 0.9777 - val_loss: 0.0499 - val_accuracy: 0.9907\n",
            "Epoch 103/130\n",
            "13/13 [==============================] - 0s 19ms/step - loss: 0.1078 - accuracy: 0.9674 - val_loss: 0.0491 - val_accuracy: 0.9889\n",
            "Epoch 104/130\n",
            "13/13 [==============================] - 0s 15ms/step - loss: 0.0963 - accuracy: 0.9737 - val_loss: 0.0488 - val_accuracy: 0.9907\n",
            "Epoch 105/130\n",
            "13/13 [==============================] - 0s 14ms/step - loss: 0.1114 - accuracy: 0.9634 - val_loss: 0.0477 - val_accuracy: 0.9907\n",
            "Epoch 106/130\n",
            "13/13 [==============================] - 0s 18ms/step - loss: 0.0991 - accuracy: 0.9698 - val_loss: 0.0487 - val_accuracy: 0.9907\n",
            "Epoch 107/130\n",
            "13/13 [==============================] - 0s 15ms/step - loss: 0.0953 - accuracy: 0.9745 - val_loss: 0.0457 - val_accuracy: 0.9907\n",
            "Epoch 108/130\n",
            "13/13 [==============================] - 0s 14ms/step - loss: 0.1056 - accuracy: 0.9642 - val_loss: 0.0434 - val_accuracy: 0.9907\n",
            "Epoch 109/130\n",
            "13/13 [==============================] - 0s 27ms/step - loss: 0.0895 - accuracy: 0.9785 - val_loss: 0.0434 - val_accuracy: 0.9889\n",
            "Epoch 110/130\n",
            "13/13 [==============================] - 0s 19ms/step - loss: 0.1007 - accuracy: 0.9690 - val_loss: 0.0446 - val_accuracy: 0.9907\n",
            "Epoch 111/130\n",
            "13/13 [==============================] - 0s 17ms/step - loss: 0.0939 - accuracy: 0.9737 - val_loss: 0.0415 - val_accuracy: 0.9907\n",
            "Epoch 112/130\n",
            "13/13 [==============================] - 0s 12ms/step - loss: 0.0849 - accuracy: 0.9761 - val_loss: 0.0454 - val_accuracy: 0.9889\n",
            "Epoch 113/130\n",
            "13/13 [==============================] - 0s 16ms/step - loss: 0.0841 - accuracy: 0.9706 - val_loss: 0.0412 - val_accuracy: 0.9907\n",
            "Epoch 114/130\n",
            "13/13 [==============================] - 0s 16ms/step - loss: 0.0863 - accuracy: 0.9777 - val_loss: 0.0414 - val_accuracy: 0.9907\n",
            "Epoch 115/130\n",
            "13/13 [==============================] - 0s 18ms/step - loss: 0.0877 - accuracy: 0.9730 - val_loss: 0.0425 - val_accuracy: 0.9907\n",
            "Epoch 116/130\n",
            "13/13 [==============================] - 0s 20ms/step - loss: 0.0854 - accuracy: 0.9722 - val_loss: 0.0426 - val_accuracy: 0.9907\n",
            "Epoch 117/130\n",
            "13/13 [==============================] - 0s 18ms/step - loss: 0.0945 - accuracy: 0.9706 - val_loss: 0.0418 - val_accuracy: 0.9907\n",
            "Epoch 118/130\n",
            "13/13 [==============================] - 0s 15ms/step - loss: 0.0815 - accuracy: 0.9761 - val_loss: 0.0434 - val_accuracy: 0.9907\n",
            "Epoch 119/130\n",
            "13/13 [==============================] - 0s 18ms/step - loss: 0.0860 - accuracy: 0.9777 - val_loss: 0.0394 - val_accuracy: 0.9907\n",
            "Epoch 120/130\n",
            "13/13 [==============================] - 0s 18ms/step - loss: 0.0787 - accuracy: 0.9833 - val_loss: 0.0392 - val_accuracy: 0.9907\n",
            "Epoch 121/130\n",
            "13/13 [==============================] - 0s 15ms/step - loss: 0.0837 - accuracy: 0.9793 - val_loss: 0.0377 - val_accuracy: 0.9907\n",
            "Epoch 122/130\n",
            "13/13 [==============================] - 0s 22ms/step - loss: 0.0922 - accuracy: 0.9714 - val_loss: 0.0411 - val_accuracy: 0.9907\n",
            "Epoch 123/130\n",
            "13/13 [==============================] - 0s 21ms/step - loss: 0.0706 - accuracy: 0.9809 - val_loss: 0.0393 - val_accuracy: 0.9907\n",
            "Epoch 124/130\n",
            "13/13 [==============================] - 0s 17ms/step - loss: 0.0725 - accuracy: 0.9817 - val_loss: 0.0406 - val_accuracy: 0.9907\n",
            "Epoch 125/130\n",
            "13/13 [==============================] - 0s 23ms/step - loss: 0.0829 - accuracy: 0.9745 - val_loss: 0.0369 - val_accuracy: 0.9907\n",
            "Epoch 126/130\n",
            "13/13 [==============================] - 0s 16ms/step - loss: 0.0694 - accuracy: 0.9849 - val_loss: 0.0397 - val_accuracy: 0.9907\n",
            "Epoch 127/130\n",
            "13/13 [==============================] - 0s 14ms/step - loss: 0.0819 - accuracy: 0.9769 - val_loss: 0.0379 - val_accuracy: 0.9907\n",
            "Epoch 128/130\n",
            "13/13 [==============================] - 0s 15ms/step - loss: 0.0757 - accuracy: 0.9793 - val_loss: 0.0398 - val_accuracy: 0.9907\n",
            "Epoch 129/130\n",
            "13/13 [==============================] - 0s 17ms/step - loss: 0.0702 - accuracy: 0.9801 - val_loss: 0.0387 - val_accuracy: 0.9889\n",
            "Epoch 130/130\n",
            "13/13 [==============================] - 0s 13ms/step - loss: 0.0784 - accuracy: 0.9769 - val_loss: 0.0341 - val_accuracy: 0.9907\n"
          ]
        }
      ]
    },
    {
      "cell_type": "code",
      "source": [
        "def plot_history_loss_and_acc(history_keras_nn):\n",
        "\n",
        "    fig, axs = plt.subplots(1,2, figsize=(12,4))\n",
        "\n",
        "    axs[0].plot(history_keras_nn.history['loss'])\n",
        "    axs[0].plot(history_keras_nn.history['val_loss'])\n",
        "    axs[0].set_title('model loss')\n",
        "    axs[0].set_ylabel('loss')\n",
        "    axs[0].set_xlabel('epoch')\n",
        "    axs[0].legend(['train', 'validation'], loc='upper left')\n",
        "\n",
        "    axs[1].plot(history_keras_nn.history['accuracy'])\n",
        "    axs[1].plot(history_keras_nn.history['val_accuracy'])\n",
        "    axs[1].set_title('model accuracy')\n",
        "    axs[1].set_ylabel('accuracy')\n",
        "    axs[1].set_xlabel('epoch')\n",
        "    axs[1].legend(['train', 'validation'], loc='upper left')\n",
        "\n",
        "    plt.show()"
      ],
      "metadata": {
        "id": "oQ1OBZyK0qj_"
      },
      "execution_count": null,
      "outputs": []
    },
    {
      "cell_type": "code",
      "source": [
        "plot_history_loss_and_acc(prede_test)"
      ],
      "metadata": {
        "colab": {
          "base_uri": "https://localhost:8080/",
          "height": 295
        },
        "id": "uZwIybS70sWw",
        "outputId": "beed0d9c-30d8-4853-df27-3a62d9d5e230"
      },
      "execution_count": null,
      "outputs": [
        {
          "output_type": "display_data",
          "data": {
            "text/plain": [
              "<Figure size 864x288 with 2 Axes>"
            ],
            "image/png": "[encoded data removed]"
          },
          "metadata": {
            "needs_background": "light"
          }
        }
      ]
    },
    {
      "cell_type": "code",
      "source": [
        "from sklearn.metrics import classification_report\n",
        " \n",
        "predictions = modelo_cnn.predict(X_test, batch_size = 64)\n",
        "clas = classification_report(y_test.argmax(axis=1),\n",
        "                  predictions.argmax(axis=1),\n",
        "                  target_names=[str(x) for x in label_binarizer.classes_])\n",
        "print(clas)"
      ],
      "metadata": {
        "colab": {
          "base_uri": "https://localhost:8080/"
        },
        "id": "a055kHkytVOH",
        "outputId": "f4d47b12-65cf-4c70-ee6c-f365a7e2c82d"
      },
      "execution_count": null,
      "outputs": [
        {
          "output_type": "stream",
          "name": "stdout",
          "text": [
            "              precision    recall  f1-score   support\n",
            "\n",
            "           0       1.00      1.00      1.00        55\n",
            "           1       0.98      1.00      0.99        58\n",
            "           2       1.00      1.00      1.00        47\n",
            "           3       1.00      0.98      0.99        48\n",
            "           4       0.98      1.00      0.99        58\n",
            "           5       1.00      0.98      0.99        53\n",
            "           6       0.98      1.00      0.99        60\n",
            "           7       0.98      0.98      0.98        58\n",
            "           8       1.00      0.96      0.98        51\n",
            "           9       0.98      1.00      0.99        52\n",
            "\n",
            "    accuracy                           0.99       540\n",
            "   macro avg       0.99      0.99      0.99       540\n",
            "weighted avg       0.99      0.99      0.99       540\n",
            "\n"
          ]
        }
      ]
    }
  ]
}